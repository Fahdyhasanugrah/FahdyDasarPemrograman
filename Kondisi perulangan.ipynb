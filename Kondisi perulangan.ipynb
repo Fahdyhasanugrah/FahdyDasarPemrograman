{
 "cells": [
  {
   "cell_type": "code",
   "execution_count": 4,
   "id": "c1a6ca2a",
   "metadata": {},
   "outputs": [
    {
     "name": "stdout",
     "output_type": "stream",
     "text": [
      "1\n",
      "2\n",
      "3\n",
      "4\n",
      "5\n",
      "6\n",
      "7\n",
      "8\n",
      "9\n",
      "10\n",
      "11\n",
      "12\n",
      "13\n",
      "14\n",
      "15\n",
      "16\n",
      "17\n",
      "18\n"
     ]
    }
   ],
   "source": [
    "# for in range\n",
    "# print 1-10\n",
    "\n",
    "for i in range(1,19):\n",
    "\n",
    "    print(i)\n",
    "    \n"
   ]
  },
  {
   "cell_type": "code",
   "execution_count": 2,
   "id": "c8cbdb03",
   "metadata": {},
   "outputs": [
    {
     "name": "stdout",
     "output_type": "stream",
     "text": [
      "10\n",
      "20\n",
      "30\n",
      "40\n",
      "50\n",
      "60\n",
      "70\n",
      "80\n",
      "90\n"
     ]
    }
   ],
   "source": [
    "#print 10 20 30 40 50 ----100\n",
    "\n",
    "for i in range(1,10):\n",
    "    print(i*10)"
   ]
  },
  {
   "cell_type": "code",
   "execution_count": 5,
   "id": "4563b6a5",
   "metadata": {},
   "outputs": [
    {
     "name": "stdout",
     "output_type": "stream",
     "text": [
      "10\n",
      "9\n",
      "8\n",
      "7\n",
      "6\n",
      "5\n",
      "4\n",
      "3\n",
      "2\n",
      "1\n"
     ]
    }
   ],
   "source": [
    "#print 10 9 8 7---1\n",
    "\n",
    "for i in range(10,0,-1):\n",
    "    print(i)"
   ]
  },
  {
   "cell_type": "code",
   "execution_count": 8,
   "id": "693f1c55",
   "metadata": {},
   "outputs": [
    {
     "name": "stdout",
     "output_type": "stream",
     "text": [
      "1\n",
      "-2\n",
      "3\n",
      "-4\n",
      "5\n",
      "-6\n",
      "7\n",
      "-8\n",
      "9\n",
      "-10\n"
     ]
    }
   ],
   "source": [
    "#print #1 -2 3 -4 5 -6 7 -8\n",
    "\n",
    "sign = 1\n",
    "for i in range(1,11):\n",
    "    print (i*sign)\n",
    "    sign *= -1\n",
    "     \n",
    "    "
   ]
  },
  {
   "cell_type": "code",
   "execution_count": 12,
   "id": "b093b3ab",
   "metadata": {},
   "outputs": [
    {
     "name": "stdout",
     "output_type": "stream",
     "text": [
      "isikan bilangan:3\n",
      "isikan biangan:4\n",
      "3 pangkat4 adalah 81\n"
     ]
    }
   ],
   "source": [
    "#Pangkat => input 2^3+=2*2*2=8\n",
    "\n",
    "number = int(input('isikan bilangan:'))\n",
    "pangkat = int(input('isikan biangan:'))\n",
    "\n",
    "result =1\n",
    "for i in range (1,pangkat+1):\n",
    "    result =result * number\n",
    "print(f\"{number} pangkat{pangkat} adalah {result}\")  "
   ]
  },
  {
   "cell_type": "code",
   "execution_count": 27,
   "id": "b322bd43",
   "metadata": {},
   "outputs": [
    {
     "name": "stdout",
     "output_type": "stream",
     "text": [
      "isikan bilangan: 5\n",
      "5 itu bilangan prima\n"
     ]
    }
   ],
   "source": [
    "#Bilangan prima \n",
    "#bill. prkima adalah biangan yang habis jika di bagi dengan sendiri dan satu\n",
    "#bill prima memiliki 2 faktor\n",
    "#Jika number %i === 0 maka nilai fator di increment(+1)\n",
    "#Setelah selesai perulangan , jika faktor ==\n",
    "\n",
    "number =int(input('isikan bilangan: '))\n",
    "faktor =0\n",
    "for i in range(1, number +1):\n",
    "    sisa = number % i\n",
    "    if number %i == 0:\n",
    "        faktor = faktor + 1\n",
    "        \n",
    "if faktor ==2:\n",
    "    keterangan= \"bilangan prima\"\n",
    "else :\n",
    "    keterangan =\"bukan bilangan prima\"\n",
    "print(f\"{number} itu {keterangan}\")  "
   ]
  },
  {
   "cell_type": "code",
   "execution_count": 28,
   "id": "487f8fd6",
   "metadata": {},
   "outputs": [
    {
     "name": "stdout",
     "output_type": "stream",
     "text": [
      "isikan bilangan:1\n",
      "isikan bilangan:2\n",
      "faktorial dari 1! adalah 2\n"
     ]
    }
   ],
   "source": [
    "#Faktorial => Input 4! = 4*3*2*1 =24\n",
    "\n",
    "number =int(input ('isikan bilangan:'))\n",
    "pangkat=int(input ('isikan pangkat:'))\n",
    "result=1\n",
    "for i in range (1,number+1):\n",
    "    result = result *pangkat\n",
    "    \n",
    "    print (f\"faktorial dari {number}! adalah {result}\")"
   ]
  },
  {
   "cell_type": "code",
   "execution_count": 35,
   "id": "dd60bead",
   "metadata": {},
   "outputs": [
    {
     "name": "stdout",
     "output_type": "stream",
     "text": [
      "22\n",
      "0 U\n",
      "1 n\n",
      "2 i\n",
      "3 v\n",
      "4 e\n",
      "5 r\n",
      "6 s\n",
      "7 i\n",
      "8 t\n",
      "9 a\n",
      "10 s\n",
      "11  \n",
      "12 N\n",
      "13 u\n",
      "14 s\n",
      "15 a\n",
      "16  \n",
      "17 p\n",
      "18 u\n",
      "19 t\n",
      "20 r\n",
      "21 a\n"
     ]
    }
   ],
   "source": [
    "kampus= \"Universitas Nusa putra\"\n",
    "print (len(kampus))\n",
    "\n",
    "for i, huruf in enumerate(kampus):\n",
    "    print(i,huruf)"
   ]
  },
  {
   "cell_type": "code",
   "execution_count": null,
   "id": "0fd70d8c",
   "metadata": {},
   "outputs": [],
   "source": []
  },
  {
   "cell_type": "code",
   "execution_count": 51,
   "id": "f75ba5c9",
   "metadata": {},
   "outputs": [
    {
     "name": "stdout",
     "output_type": "stream",
     "text": [
      "jumlah huruf a : 3\n",
      "jumlah huruf i : 2\n",
      "jumlah huruf u : 3\n",
      "jumlah huruf e : 1\n",
      "jumlah huruf o : 0\n",
      "total jumlah huruf vokal : 9\n"
     ]
    }
   ],
   "source": [
    "kampus= \"universitas Nusa putra\" #panjang 22\n",
    "panjang= len(kampus)\n",
    "\n",
    "vokal_a = 0\n",
    "vokal_i = 0\n",
    "vokal_u = 0\n",
    "vokal_e = 0\n",
    "vokal_o = 0\n",
    "\n",
    "for i in range(0,panjang):\n",
    "    if kampus[i]=='a':\n",
    "        vokal_a +=1\n",
    "    elif kampus [i]=='i':\n",
    "        vokal_i +=1 \n",
    "    elif kampus [i]=='u':\n",
    "        vokal_u +=1\n",
    "    elif kampus [i]=='e':\n",
    "        vokal_e +=1\n",
    "    elif kampus [i]=='o':\n",
    "        vokal_o +=1\n",
    "        \n",
    "\n",
    "    \n",
    "print (f\"jumlah huruf a : {vokal_a}\")\n",
    "print (f\"jumlah huruf i : {vokal_i}\")\n",
    "print (f\"jumlah huruf u : {vokal_u}\")\n",
    "print (f\"jumlah huruf e : {vokal_e}\")\n",
    "print (f\"jumlah huruf o : {vokal_o}\")\n",
    "print(f\"total jumlah huruf vokal : {vokal_a+ vokal_i+ vokal_u + vokal_e + vokal_o}\")\n",
    "        "
   ]
  },
  {
   "cell_type": "code",
   "execution_count": null,
   "id": "22cd654e",
   "metadata": {},
   "outputs": [
    {
     "name": "stdout",
     "output_type": "stream",
     "text": [
      "isikan kalimat: kaka\n",
      "kaka bukan palindrom\n",
      "apakah mau mengulang program?:Y/TMAMA\n",
      "isikan kalimat: mam\n",
      "mam adalah palindrom\n"
     ]
    }
   ],
   "source": [
    "\n",
    "#AKU-> UKA\n",
    "#mengecek kalimat Palindrom atau Bukan\n",
    "#Palindrom => kalimat yang dibaca dari kiri ke kanan dan Kanan ke KIRI (Sama)\n",
    "\n",
    "\n",
    "ulang= \"Y\" \n",
    "while(ulang==\"Y\" or \"y\"):\n",
    "    kalimat = input ('isikan kalimat: ')\n",
    "    panjang_kalimat = len(kalimat)\n",
    "\n",
    "    ispalindrom = True\n",
    "    for i in range (0, panjang_kalimat):\n",
    "        urut = kalimat[i]\n",
    "        kebalikan = kalimat[panjang_kalimat-i-1]\n",
    "        if urut !=kebalikan:\n",
    "            ispalindrom= False \n",
    "            break\n",
    "        \n",
    "    if ispalindrom==True:\n",
    "        print(f\"{kalimat} adalah palindrom\")\n",
    "        \n",
    "    else: \n",
    "        print(f\"{kalimat} bukan palindrom\")\n",
    "        \n",
    "    ulang =input('apakah mau mengulang program?:Y/T')\n",
    "break"
   ]
  },
  {
   "cell_type": "code",
   "execution_count": 1,
   "id": "8d4ce89e",
   "metadata": {},
   "outputs": [
    {
     "name": "stdout",
     "output_type": "stream",
     "text": [
      "i: 1 dan j :1\n",
      "i: 1 dan j :2\n",
      "i: 1 dan j :3\n",
      "i: 1 dan j :4\n",
      "i: 2 dan j :1\n",
      "i: 2 dan j :2\n",
      "i: 2 dan j :3\n",
      "i: 2 dan j :4\n",
      "i: 3 dan j :1\n",
      "i: 3 dan j :2\n",
      "i: 3 dan j :3\n",
      "i: 3 dan j :4\n",
      "i: 4 dan j :1\n",
      "i: 4 dan j :2\n",
      "i: 4 dan j :3\n",
      "i: 4 dan j :4\n"
     ]
    }
   ],
   "source": [
    "#Nested for\n",
    "for i in range (1,5):\n",
    "    for j in range (1,5):\n",
    "        print (f\"i: {i} dan j :{j}\")"
   ]
  },
  {
   "cell_type": "code",
   "execution_count": null,
   "id": "39b88c88",
   "metadata": {},
   "outputs": [],
   "source": []
  },
  {
   "cell_type": "code",
   "execution_count": null,
   "id": "0f4748af",
   "metadata": {},
   "outputs": [],
   "source": []
  }
 ],
 "metadata": {
  "kernelspec": {
   "display_name": "Python 3 (ipykernel)",
   "language": "python",
   "name": "python3"
  },
  "language_info": {
   "codemirror_mode": {
    "name": "ipython",
    "version": 3
   },
   "file_extension": ".py",
   "mimetype": "text/x-python",
   "name": "python",
   "nbconvert_exporter": "python",
   "pygments_lexer": "ipython3",
   "version": "3.9.12"
  }
 },
 "nbformat": 4,
 "nbformat_minor": 5
}
