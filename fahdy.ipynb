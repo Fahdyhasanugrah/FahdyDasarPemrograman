{
 "cells": [
  {
   "cell_type": "markdown",
   "id": "d8fc880d",
   "metadata": {},
   "source": [
    "<h1>belajar variable tipe data </h1><hr>\n",
    "  "
   ]
  },
  {
   "cell_type": "markdown",
   "id": "dc0743aa",
   "metadata": {},
   "source": [
    " Tipe data di phyton yaitu <b>Integer,float,boolean ,string ,complex <b/>"
   ]
  },
  {
   "cell_type": "code",
   "execution_count": 27,
   "id": "0094f6ff",
   "metadata": {},
   "outputs": [
    {
     "name": "stdout",
     "output_type": "stream",
     "text": [
      "100\n",
      "<class 'int'>\n",
      "Digunakan untuk menDeclare Angka\n"
     ]
    }
   ],
   "source": [
    "data_integer =100\n",
    "data_integer \n",
    "print(data_integer)\n",
    "print(type(data_integer))\n",
    "print(\"Digunakan untuk menDeclare Angka\")\n"
   ]
  },
  {
   "cell_type": "code",
   "execution_count": 34,
   "id": "4a04fd00",
   "metadata": {},
   "outputs": [
    {
     "name": "stdout",
     "output_type": "stream",
     "text": [
      "10.5\n",
      "<class 'float'>\n",
      "Digunakan untuk menDeclare angka decimal\n"
     ]
    }
   ],
   "source": [
    "data_float = 10.5\n",
    "print(data_float)\n",
    "print(type(data_float))\n",
    "print(\"Digunakan untuk menDeclare angka decimal\")"
   ]
  },
  {
   "cell_type": "code",
   "execution_count": null,
   "id": "fd98df83",
   "metadata": {},
   "outputs": [],
   "source": [
    "data_boolean = True or False\n",
    "print(data_boolean)\n",
    "print(type(data_boolean))\n",
    "print(\"Digunakan untuk Menyatakan True or False\")"
   ]
  },
  {
   "cell_type": "code",
   "execution_count": 59,
   "id": "99c87e8e",
   "metadata": {
    "scrolled": true
   },
   "outputs": [
    {
     "name": "stdout",
     "output_type": "stream",
     "text": [
      "1\n",
      "<class 'str'>\n",
      "Digunakan untuk \n"
     ]
    }
   ],
   "source": [
    "data_string = \"1\"\n",
    "print(data_string)\n",
    "print(type(data_string))\n",
    "print(\"Digunakan untuk \")"
   ]
  },
  {
   "cell_type": "code",
   "execution_count": 29,
   "id": "be98163f",
   "metadata": {},
   "outputs": [
    {
     "name": "stdout",
     "output_type": "stream",
     "text": [
      "(5+6j)\n",
      "<class 'complex'>\n"
     ]
    }
   ],
   "source": [
    "data_complex = complex(5,6)\n",
    "print(data_complex)\n",
    "print(type(data_complex))"
   ]
  },
  {
   "cell_type": "markdown",
   "id": "48e9139b",
   "metadata": {},
   "source": [
    "<h2>Casting</h2><hr>\n",
    "<font color =\"purple\">Casting</font> Adalah proses melakukan konversi tipe data <br>\n",
    "<ol>\n",
    "    <li>Sintak casting menggunakan (tipe data)\n",
    "    <li>Casting dapat dilakukan untuk semua tipe data"
   ]
  },
  {
   "cell_type": "code",
   "execution_count": 36,
   "id": "96e945d9",
   "metadata": {
    "scrolled": true
   },
   "outputs": [
    {
     "name": "stdout",
     "output_type": "stream",
     "text": [
      "100\n"
     ]
    }
   ],
   "source": [
    "print(data_integer)"
   ]
  },
  {
   "cell_type": "markdown",
   "id": "746590b3",
   "metadata": {},
   "source": [
    "<h2> <font color =\"purple\">FREE FIRE BEST GAME IN<font color =\"green\"> PLAYSTORE <font color =\"black\">BY <font color =\"red\">GARENA </h2><hr>\n"
   ]
  },
  {
   "cell_type": "code",
   "execution_count": null,
   "id": "3f3cf457",
   "metadata": {},
   "outputs": [],
   "source": []
  },
  {
   "cell_type": "code",
   "execution_count": 47,
   "id": "388a6383",
   "metadata": {},
   "outputs": [
    {
     "name": "stdout",
     "output_type": "stream",
     "text": [
      "100\n",
      "100.0\n",
      "True\n",
      "<class 'str'>\n",
      "<class 'float'>\n",
      "<class 'bool'>\n"
     ]
    }
   ],
   "source": [
    "int_to_string = str(data_integer)\n",
    "int_to_float = float(data_integer)\n",
    "int_to_bool = bool(data_integer)\n",
    "\n",
    "print(int_to_string)\n",
    "print(int_to_float)\n",
    "print(int_to_bool)\n",
    "\n",
    "print(type(int_to_string))\n",
    "print(type(int_to_float))\n",
    "print(type(int_to_bool))"
   ]
  },
  {
   "cell_type": "code",
   "execution_count": 60,
   "id": "f05b0813",
   "metadata": {},
   "outputs": [
    {
     "name": "stdout",
     "output_type": "stream",
     "text": [
      "1\n",
      "1.0\n",
      "True\n"
     ]
    }
   ],
   "source": [
    "int_to_string = int(data_string)\n",
    "int_to_float = float(data_string)\n",
    "int_to_bool = bool(data_string)\n",
    "\n",
    "print(int_to_string)\n",
    "print(int_to_float)\n",
    "print(int_to_bool)\n"
   ]
  }
 ],
 "metadata": {
  "kernelspec": {
   "display_name": "Python 3 (ipykernel)",
   "language": "python",
   "name": "python3"
  },
  "language_info": {
   "codemirror_mode": {
    "name": "ipython",
    "version": 3
   },
   "file_extension": ".py",
   "mimetype": "text/x-python",
   "name": "python",
   "nbconvert_exporter": "python",
   "pygments_lexer": "ipython3",
   "version": "3.9.12"
  }
 },
 "nbformat": 4,
 "nbformat_minor": 5
}
